{
 "cells": [
  {
   "cell_type": "markdown",
   "metadata": {},
   "source": [
    "## Problem 1\n",
    "\n",
    "Consider $u'(t)=f(u(t)),u(0)=u_0$, and $f:\\mathbb{R}^{d}\\to \\mathbb{R}$ \n",
    "is Lipschitz continuous with a\n",
    "Lipschitz constant $L$. Let $\\max \\Vert u''(t)\\Vert$ be bounded by a constant $M$ for $0\\le t\\le T$. Prove that the backward Euler method converges as the step size $h\\to 0$.\n",
    "\n",
    "\n",
    "**Sketch of proof:** \n",
    "\n",
    "The backward Euler method is\n",
    "\n",
    "$$\n",
    "u_{n+1} = u_{n} + h f(u_{n+1}).\n",
    "$$\n",
    "\n",
    "Let $u(t_n)$ be the true solution at $t=t_n$.\n",
    "\n",
    "$$ u_{n+1} = u_{n} + h f(u_{n+1}).$$\n",
    "\n",
    "$$ u(t_{n+1}) = u(t_{n}) + h f(u(t_{n+1})) +\\tau_n.$$\n",
    "\n",
    "$\\tau_n$ is LTE. Expand $u(t_{n+1})$ and $f(u(t_{n+1}))$ and find\n",
    "\n",
    "$$\\tau_n = \\int_{t_n}^{t_{n+1}} u''(s) (t_{n+1}-s-h) ds.$$\n",
    "\n",
    "Hence\n",
    "\n",
    "$$\\Vert\\tau_n\\Vert \\le \\frac12 M h^2.$$\n",
    "\n",
    "(We can also get the same estimate for $\\Vert\\tau_n\\Vert$ by the Lagrange form of the remainder)\n",
    "\n",
    "\n",
    "Define the error $e_n= u(t_{n})-u_{n}$. Use the Lipschitz continuity, we have\n",
    "\n",
    "$$\\Vert e_{n+1} \\Vert \\le \\Vert e_{n} \\Vert + hL \\Vert e_{n+1} \\Vert + \\Vert \\tau_n\\Vert.$$\n",
    "\n",
    "When $hL<1$, the equation above can be written as\n",
    "\n",
    "$$\\Vert e_{n+1} \\Vert \\le \\frac{1}{1-hL} (\\Vert e_{n} \\Vert + \\frac12 M h^2).$$\n",
    "\n",
    "Hence\n",
    "\n",
    "$$\\Vert e_N\\Vert \\le \\left(\\frac{1}{1-hL}\\right)^N \\Vert e_0 \\Vert + \\left[\\left(\\frac{1}{1-hL}\\right)^N-1\\right] \\frac{1}{hL} \\frac12 M h^2.$$\n",
    "\n",
    "Use \n",
    "\n",
    "$$\\left(\\frac{1}{1-hL}\\right)^N = \\left(1+\\frac{hL}{1-hL}\\right)^N \\le e^{\\frac{NhL}{1-hL}} = e^{\\frac{LT}{1-hL}}.$$ \n",
    "\n",
    "(We can also use another estimate here:    $1-x \\leq e^{-x} \\implies (1-hL)^{-n} \\leq e^{-hL(-n)} =e^{nhL} = e^{TL}. $)\n",
    "\n",
    "we have\n",
    "\n",
    "$$\\Vert e_N\\Vert \\le e^{\\frac{LT}{1-hL}} \\Vert e_0 \\Vert + \\left[e^{\\frac{LT}{1-hL}}-1\\right]  \\frac{M h}{2L} .$$\n",
    "\n",
    "This proves the convergence of the backward Euler method."
   ]
  },
  {
   "cell_type": "markdown",
   "metadata": {},
   "source": [
    "## Problem 2\n",
    "\n",
    "Consider the initial value problem\n",
    "$$\n",
    "\\begin{split}\n",
    "u'_{1} &= u_{1},\\\\\n",
    "u'_{2} &= u_{1} - u_{2},\\\\\n",
    "\\end{split}\n",
    "$$\n",
    "with initial condition $(u_{1}(0),u_{2}(0))=(1,1)$. \n",
    "\n",
    "1. Find a way to solve the problem above analytically, and write down the answer of u(T=2.0).\n",
    "\n",
    "2. Solve the problem numerically using the trapezoidal rule. Verify that the solution agrees with the exact solution at time $T=2.0$. Use a number of step sizes $h=2^{-i},i=5,\\ldots,10.$ Plot the error $e=\\Vert u(1)-u^*(1)\\Vert_2$ v.s. step size $h$ in a loglog plot, and estimate the convergence rate for each scheme.\n",
    "\n",
    "**Note**: the routine for computing the error, plotting and computing the slope is provided. "
   ]
  },
  {
   "cell_type": "markdown",
   "metadata": {},
   "source": [
    "**Solution:**\n",
    "\n",
    "You can convert it to a second order ODE and solve it. This gives the solution at $T=2.0$ is $(u_{1}(T),u_{2}(T))=(exp(2),0.5*(exp(2)+exp(-2)))$.\n",
    "\n",
    "\n",
    "Let us do something fun and try to solve it with matrix exponential.\n",
    "\n",
    "Define $$A = \\begin{pmatrix} 1 & 0\\\\1 & -1\\end{pmatrix}.$$\n",
    "\n",
    "The solution at $T$ is\n",
    "\n",
    "$$\\begin{pmatrix} u_1\\\\ u_2 \\end{pmatrix} = e^{AT}  \\begin{pmatrix} u_1(0)\\\\ u_2(0)\\end{pmatrix}.$$\n",
    "\n",
    "\n",
    "Let us verify by Julia code."
   ]
  },
  {
   "cell_type": "code",
   "execution_count": 1,
   "metadata": {},
   "outputs": [
    {
     "name": "stdout",
     "output_type": "stream",
     "text": [
      "u(T), exponential =[7.38905609893065, 3.762195691083632]\n",
      "u(T), sol         =[7.38905609893065, 3.7621956910836314]\n"
     ]
    }
   ],
   "source": [
    "using LinearAlgebra\n",
    "\n",
    "# Compute solution by matrix exponential\n",
    "A = [1 0; 1 -1]\n",
    "T = 2.0\n",
    "u = exp(A*T) * [1.0;1.0]   # expm computes the matrix exponential\n",
    "uexact = [exp(T), 0.5*(exp(T)+exp(-T))]\n",
    "\n",
    "println(\"u(T), exponential =\", u)\n",
    "println(\"u(T), sol         =\", uexact)"
   ]
  },
  {
   "cell_type": "markdown",
   "metadata": {},
   "source": [
    "Now for the second part of the problem"
   ]
  },
  {
   "cell_type": "code",
   "execution_count": 2,
   "metadata": {},
   "outputs": [
    {
     "name": "stdout",
     "output_type": "stream",
     "text": [
      "Slope for Trapezoid = 2"
     ]
    },
    {
     "data": {
      "image/png": "[encoded data removed]",
      "text/plain": [
       "Figure(PyObject <Figure size 400x400 with 1 Axes>)"
      ]
     },
     "metadata": {},
     "output_type": "display_data"
    },
    {
     "name": "stdout",
     "output_type": "stream",
     "text": [
      ".000066050958678\n"
     ]
    }
   ],
   "source": [
    "function Trapezoid(N,T,u0)\n",
    "    I2 = Matrix(1.0I,2,2)\n",
    "    u = copy(u0)\n",
    "    un = copy(u0)\n",
    "    dt = 1/N\n",
    "    MAX = round(T/dt)\n",
    "    A = [1.0 0.0; 1.0 -1.0];\n",
    "    P = inv(I2 - 0.5 * dt * A) * (I2 + 0.5 * dt * A)\n",
    "    for i = 1 : MAX\n",
    "        un = P * u\n",
    "        u = un\n",
    "    end\n",
    "    return u\n",
    "end\n",
    "\n",
    "u0 = [1.0,1.0]\n",
    "T = 2.0\n",
    "# You need to compute uexact at T=2.0\n",
    "uexact = [exp(T), 0.5*(exp(T)+exp(-T))]\n",
    "\n",
    "# Plotting routine provided below\n",
    "\n",
    "NList = 2 .^(5:10)\n",
    "errTrapeList = zeros(size(NList))\n",
    "for i = 1 : length(NList)\n",
    "    N = NList[i]\n",
    "    utrape = Trapezoid(N,T,u0)\n",
    "    errTrapeList[i] = norm(utrape-uexact)\n",
    "end\n",
    "\n",
    "using PyPlot\n",
    "figure(1,figsize=(4,4))\n",
    "loglog(T./NList, errTrapeList, \"r-d\", label=\"Trapezoid\")\n",
    "xlabel(L\"h\")\n",
    "ylabel(L\"||u-u^*||_2\")\n",
    "legend()\n",
    "\n",
    "slopeTrape = -(log(errTrapeList[end])-log(errTrapeList[1])) / \n",
    "(log(NList[end]) - log(NList[1]))\n",
    "\n",
    "println(\"Slope for Trapezoid = \", slopeTrape )"
   ]
  },
  {
   "cell_type": "markdown",
   "metadata": {},
   "source": [
    "## Problem 3\n",
    "\n",
    "Consider a simple pendulum of length $l$, forming an angle $\\theta(t)$ with the\n",
    "vertical axis. The equation of motion for the pendulum is given by\n",
    "\n",
    "$$\\theta''(t)+\\frac{g}{l} \\sin(\\theta(t))=0,$$\n",
    "\n",
    "where $g$ is the gravitational constant, with given initial conditions\n",
    "\n",
    "$$\\theta(0)=\\theta_0,\\quad \\theta'(0)=\\omega_0.$$\n",
    "\n",
    "1. Rewrite the equation as a system of first order equations in $u(t)=(\\theta(t),\\omega(t))$. Fill the `func` function below. \n",
    "\n",
    "2. Write a forward Euler method. Use a sufficiently small time step, and plot the solution of $\\theta(t)$ with $g=l=1$ and initial condition $(\\theta(0),\\omega(0))=(2.5,0.0)$ till $T=25$. Since no exact solution is available, measure the convergence rate by means of the solution at T=25 obtained from three time steps h, h/2, and h/4."
   ]
  },
  {
   "cell_type": "code",
   "execution_count": 3,
   "metadata": {},
   "outputs": [
    {
     "data": {
      "image/png": "[encoded data removed]",
      "text/plain": [
       "Figure(PyObject <Figure size 400x400 with 1 Axes>)"
      ]
     },
     "metadata": {},
     "output_type": "display_data"
    },
    {
     "data": {
      "text/plain": [
       "PyObject Text(26.0, 0.5, '$\\\\theta(t)$')"
      ]
     },
     "execution_count": 3,
     "metadata": {},
     "output_type": "execute_result"
    }
   ],
   "source": [
    "function func(u,g,l)\n",
    "    # fill here for evaluating f(u)\n",
    "    return [u[2],-g/l*sin(u[1])]\n",
    "end\n",
    "\n",
    "function ForwardEulerFull(N,T,u0,g,l)\n",
    "    u = zeros(2,N+1)\n",
    "    u[:,1] .= u0\n",
    "    dt = T/N\n",
    "    for i = 1 : N\n",
    "        u[:,i+1] .= u[:,i] + dt * func(u[:,i],g,l)\n",
    "    end\n",
    "    return u\n",
    "end\n",
    "\n",
    "# This should plot out the solution\n",
    "g=1.0\n",
    "l=1.0\n",
    "T=25.0\n",
    "N=10000\n",
    "u0=[2.5,0.0]\n",
    "\n",
    "uEulerFull = ForwardEulerFull(N,T,u0,g,l)\n",
    "tList = collect(0:N)*(T/N)\n",
    "\n",
    "using PyPlot\n",
    "figure(1,figsize=(4,4))\n",
    "plot(tList,vec(uEulerFull[1,:]),\"b-\")\n",
    "xlabel(L\"t\")\n",
    "ylabel(L\"\\theta(t)\")"
   ]
  },
  {
   "cell_type": "code",
   "execution_count": 5,
   "metadata": {},
   "outputs": [
    {
     "name": "stdout",
     "output_type": "stream",
     "text": [
      "slope for Euler           = 1.0196139778528048\n",
      "Estimated error for Euler = 0.03385381562110105\n"
     ]
    }
   ],
   "source": [
    "function ForwardEuler(N,T,u0,g,l)\n",
    "    u = copy(u0)\n",
    "    dt = T/N\n",
    "    for i = 1 : N\n",
    "        u = u + dt * func(u,g,l)\n",
    "    end\n",
    "    return u\n",
    "end\n",
    "\n",
    "\n",
    "# Plotting routine provided below\n",
    "\n",
    "g=1.0\n",
    "l=1.0\n",
    "T=25.0\n",
    "u0=[2.5,0.0]\n",
    "N = 100000\n",
    "uEuler1N = ForwardEuler(N,T,u0,g,l)\n",
    "uEuler2N = ForwardEuler(2*N,T,u0,g,l)\n",
    "uEuler4N = ForwardEuler(4*N,T,u0,g,l)\n",
    "\n",
    "#println(uEuler1N)\n",
    "#println(uEuler2N)\n",
    "#println(uEuler4N)\n",
    "\n",
    "slopeEuler = log(norm(uEuler1N-uEuler2N)/norm(uEuler2N-uEuler4N))/log(2)\n",
    "errEuler = norm(uEuler1N-uEuler2N)/(1-(0.5)^slopeEuler)\n",
    "println(\"slope for Euler           = \", slopeEuler)\n",
    "println(\"Estimated error for Euler = \", errEuler)"
   ]
  },
  {
   "cell_type": "markdown",
   "metadata": {},
   "source": [
    "## Problem 4\n",
    "\n",
    "1. Repeat Problem 3.2 using the trapezoidal rule. Modify your implementation in Problem 2 if needed.\n",
    "\n",
    "2. Repeat Problem 3.2 using the Adams-Bashforth 3 (AB3) scheme. Obtain the first two steps using forward Euler and trapezoidal rule, respectively. Observe the difference in terms of the convergence rate.\n",
    "\n"
   ]
  },
  {
   "cell_type": "code",
   "execution_count": 6,
   "metadata": {},
   "outputs": [
    {
     "name": "stdout",
     "output_type": "stream",
     "text": [
      "slope for Trape           = 2.0111493102085234\n",
      "Estimated error for Trape = 0.00025253441513798373\n"
     ]
    }
   ],
   "source": [
    "# Need to solve the nonlinear equation in trapezoidal rule. Use fixed point iteration.\n",
    "# Time step needs to be small enough for fixed point iteration to converge.\n",
    "function Trapezoid(N,T,u0,g,l)\n",
    "    u = copy(u0)\n",
    "    dt = T/N\n",
    "    maxIter = 1000\n",
    "    tol = 1e-10\n",
    "    for i = 1 : N\n",
    "        # Use fixed point iteration to solve the nonlinear equation\n",
    "        ut = u\n",
    "        ut1 = u\n",
    "        fu = func(u,g,l)\n",
    "        for iter = 1 : maxIter\n",
    "            fut = func(ut,g,l)\n",
    "            ut1 = u + 0.5*dt*(fu+fut)\n",
    "\n",
    "            if( norm(ut-ut1) < tol )\n",
    "                break\n",
    "            end\n",
    "            ut = ut1\n",
    "        end\n",
    "        u = ut\n",
    "    end\n",
    "    return u\n",
    "end\n",
    "\n",
    "N = 1000\n",
    "uTrape1N = Trapezoid(N,T,u0,g,l)\n",
    "uTrape2N = Trapezoid(2*N,T,u0,g,l)\n",
    "uTrape4N = Trapezoid(4*N,T,u0,g,l)\n",
    "\n",
    "#println(uTrape1N)\n",
    "#println(uTrape2N)\n",
    "#println(uTrape4N)\n",
    "\n",
    "slopeTrape = log(norm(uTrape1N-uTrape2N)/norm(uTrape2N-uTrape4N))/log(2)\n",
    "errTrape = norm(uTrape1N-uTrape2N)/(1-(0.5)^slopeTrape)\n",
    "println(\"slope for Trape           = \", slopeTrape)\n",
    "println(\"Estimated error for Trape = \", errTrape)\n"
   ]
  },
  {
   "cell_type": "code",
   "execution_count": 7,
   "metadata": {},
   "outputs": [
    {
     "name": "stdout",
     "output_type": "stream",
     "text": [
      "slope for AB3Euler           = 1.9684150458385057\n",
      "Estimated error for AB3Euler = 4.218921536770717e-5\n"
     ]
    }
   ],
   "source": [
    "function AB3(N,T,u0,u1,u2,g,l)\n",
    "    u = copy(u2)  # current step\n",
    "    up1 = copy(u1) # previous step 1\n",
    "    up2 = copy(u0) # previous step 2\n",
    "    unew = copy(u0) # temp variable\n",
    "    fu   = func(u,g,l)\n",
    "    fup1 = func(up1,g,l)\n",
    "    fup2 = func(up2,g,l)\n",
    "    dt = T/N\n",
    "\n",
    "    # Note the starting point\n",
    "    for i = 3 : N\n",
    "        unew = u + dt/12.0 * (23.0*fu - 16*fup1 + 5.0*fup2)\n",
    "        up2 = copy(up1)\n",
    "        up1 = copy(u)\n",
    "        fup2 = copy(fup1)\n",
    "        fup1 = copy(fu)\n",
    "        u = copy(unew)\n",
    "        fu = func(u,g,l)\n",
    "    end\n",
    "    return u\n",
    "end\n",
    "\n",
    "\n",
    "N = 10000\n",
    "u1 = ForwardEuler(1,T/N,u0,g,l)\n",
    "u2 = ForwardEuler(1,T/N,u1,g,l)\n",
    "uAB3Euler1N = AB3(N,T,u0,u1,u2,g,l)\n",
    "\n",
    "u1 = ForwardEuler(1,T/(2*N),u0,g,l)\n",
    "u2 = ForwardEuler(1,T/(2*N),u1,g,l)\n",
    "uAB3Euler2N = AB3(2*N,T,u0,u1,u2,g,l)\n",
    "\n",
    "u1 = ForwardEuler(1,T/(4*N),u0,g,l)\n",
    "u2 = ForwardEuler(1,T/(4*N),u1,g,l)\n",
    "uAB3Euler4N = AB3(4*N,T,u0,u1,u2,g,l)\n",
    "\n",
    "slopeAB3Euler = log(norm(uAB3Euler1N-uAB3Euler2N)/norm(uAB3Euler2N-uAB3Euler4N))/log(2)\n",
    "errAB3Euler = norm(uAB3Euler1N-uAB3Euler2N)/(1-(0.5)^slopeAB3Euler)\n",
    "println(\"slope for AB3Euler           = \", slopeAB3Euler)\n",
    "println(\"Estimated error for AB3Euler = \", errAB3Euler)"
   ]
  },
  {
   "cell_type": "code",
   "execution_count": 8,
   "metadata": {},
   "outputs": [
    {
     "name": "stdout",
     "output_type": "stream",
     "text": [
      "slope for AB3Trape           = 2.9992933897312364\n",
      "Estimated error for AB3Trape = 1.5895117156197749e-6\n"
     ]
    }
   ],
   "source": [
    "N = 10000\n",
    "u1 = Trapezoid(1,T/N,u0,g,l)\n",
    "u2 = Trapezoid(1,T/N,u1,g,l)\n",
    "uAB3Trape1N = AB3(N,T,u0,u1,u2,g,l)\n",
    "\n",
    "u1 = Trapezoid(1,T/(2*N),u0,g,l)\n",
    "u2 = Trapezoid(1,T/(2*N),u1,g,l)\n",
    "uAB3Trape2N = AB3(2*N,T,u0,u1,u2,g,l)\n",
    "\n",
    "u1 = Trapezoid(1,T/(4*N),u0,g,l)\n",
    "u2 = Trapezoid(1,T/(4*N),u1,g,l)\n",
    "uAB3Trape4N = AB3(4*N,T,u0,u1,u2,g,l)\n",
    "\n",
    "slopeAB3Trape = log(norm(uAB3Trape1N-uAB3Trape2N)/norm(uAB3Trape2N-uAB3Trape4N))/log(2)\n",
    "errAB3Trape = norm(uAB3Trape1N-uAB3Trape2N)/(1-(0.5)^slopeAB3Trape)\n",
    "println(\"slope for AB3Trape           = \", slopeAB3Trape)\n",
    "println(\"Estimated error for AB3Trape = \", errAB3Trape)"
   ]
  },
  {
   "cell_type": "code",
   "execution_count": null,
   "metadata": {},
   "outputs": [],
   "source": []
  }
 ],
 "metadata": {
  "kernelspec": {
   "display_name": "Julia 1.2.0",
   "language": "julia",
   "name": "julia-1.2"
  },
  "language_info": {
   "file_extension": ".jl",
   "mimetype": "application/julia",
   "name": "julia",
   "version": "1.2.0"
  }
 },
 "nbformat": 4,
 "nbformat_minor": 4
}
