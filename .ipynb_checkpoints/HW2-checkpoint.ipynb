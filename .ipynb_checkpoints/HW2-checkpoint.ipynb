{
 "cells": [
  {
   "cell_type": "markdown",
   "metadata": {},
   "source": [
    "## Code submission\n",
    "\n",
    "If you would like to use Jupyter (perhaps the easiest way), just submit the notebook file to bCourses. Name it lastname_firstname_(Homework#).ipynb. For example, obama_barack_1.ipynb. This applies to the case if you **only** have a notebook file.\n",
    "\n",
    "If you use MATLAB or Julia/Python (not the notebook), **or** if you have multiple files, name your programs as p(Homework#)_(Problem#).m. For instance, for homework 1, problem 2, name it as p1_2.m (or p1_2.jl,p1_2.py). Then **zip everything** into a single file lastname_firstname_(Homework#).zip, and submit the zip file to bCourses. For example, obama_barack_1.zip.\n",
    "\n",
    "For proof-related problems, type your solution using **LaTeX (no other format is accepted)**. You do not need to write down every step of the derivation, but make sure the logic is clear and understandable.\n",
    "\n",
    "For implementation based problems, the problem description may not include all the information for the answer to be uniquely defined. For instance, your answer might depend on the choice of the mesh size. This is OK."
   ]
  },
  {
   "cell_type": "markdown",
   "metadata": {},
   "source": [
    "## Problem 1\n",
    "\n",
    "Derive explicitly the four-step Adams-Moulton method."
   ]
  },
  {
   "cell_type": "markdown",
   "metadata": {},
   "source": [
    "Adams-Moulton generally \n",
    "\\begin{equation}\n",
    "u_{n+r} - u_{n+r-1} = h\\sum\\limits_{k=0}^{r} \\beta _k f(u_{n+k}, t_{n+k})\n",
    "\\end{equation}\n",
    "\n",
    "Adams-Moulton for $r=4$\n",
    "\\begin{equation}\n",
    "u_{n+4} - u_{n+3} = h\\sum\\limits_{k=0}^{4} \\beta _k f(u_{n+k}, t_{n+k})\n",
    "\\end{equation}\n",
    "\n",
    "Where these weights $\\beta_k$ are given by integrating a interpolating polynomial\n",
    "\\begin{equation}\n",
    "\\int_{t_{n+3}}^{t_{n+4}} p(x) dx= \\sum\\limits_{k=0}^{4} \\beta _k f(u_{n+k}, t_{n+k})\n",
    "\\end{equation}\n",
    "\n",
    "For 5 data points $t_n, t_{n+1}, t_{n+2}, t_{n+3}, t_{n+4}$ we have a degree 4 polynomial  \n",
    "Lets pick a basis for this polynomial $p(x) = x^4 + x^3 + x^2 + x + 1$"
   ]
  },
  {
   "cell_type": "markdown",
   "metadata": {},
   "source": [
    "Local truncation error $\\tau_n$\n",
    "\\begin{equation}\n",
    "\\tau_n  = \\sum\\limits_j^r \\alpha_j u(t_{n+j}) - h \\sum\\limits_k^r \\beta_k f(u(t_{n+k}), t_{n+k}) \\\\\n",
    "     = \\sum\\limits_j^r \\alpha_j u(t_{n+j}) - h \\sum\\limits_k^r \\beta_k u'(t_{n+k})\n",
    "\\end{equation}\n",
    "\n",
    "Expanding $u$ and $u'$ about $t_n$\n",
    "\\begin{equation}\n",
    "u(t_{n+j}) = u(t_n) + jhu'(t_n) + \\dots + \\frac{1}{p!}(jh)^pu^{(p)}(t_n) + O(h^{p+1}) \\\\\n",
    "u'(t_{n+j}) = u'(t_n) + jhu''(t_n) + \\dots + \\frac{1}{p!}(jh)^pu^{(p+1)}(t_n) + O(h^{p+1}) \\\\\n",
    "\\implies \\tau_n = \\sum\\limits_{k=0}^p c_kh^ku^{(k)}(t_n) + O(h^{p+1})\n",
    "\\end{equation}\n",
    "\n",
    "We know $c_0$ = $c_1$ =  $c_2$ = $c_3$ = $c_4$\n",
    "\\begin{equation}\n",
    "c_0 = \\sum\\limits_{j=0}^r \\alpha_j = \\alpha_0 + \\alpha_1 + \\alpha_2 + \\alpha_3 + \\alpha_4 \\>\\>\\>\\>\\>\\> \\text{for $r=4$} \\\\\n",
    "\\end{equation}\n",
    "\n",
    "For AMM4; $\\alpha_0 = 0$, $\\alpha_1 = 0$, $\\alpha_2 = 0$, $\\alpha_3 = -1$, $\\alpha_4 = 1$\n",
    "\n",
    "Coninuing we see a pattern\n",
    "\\begin{equation}\n",
    "c_k = \\sum\\limits_{j=0}^{r=4} \\alpha_j \\frac{j^k}{k!} - \\beta_j \\frac{j^{k-1}}{(k-1)!}\n",
    "\\end{equation}\n",
    "\n",
    "Writting down enough equations\n",
    "\\begin{equation}\n",
    "c_1 = \\sum j \\alpha_j - \\beta_j \\\\\n",
    " = -\\beta_0 - \\beta_1 - \\beta_2 - 3\\alpha_3 - \\beta_3 + 4\\alpha_4 - \\beta_4 \\\\\n",
    " = -3 -\\beta_0 - \\beta_1 - \\beta_2 - \\beta_3 + 4 - \\beta_4 \\\\\n",
    "c_1 = 1 -\\beta_0 - \\beta_1 - \\beta_2 - \\beta_3 - \\beta_4 \\\\\n",
    "\\implies \\beta_0 + \\beta_1 + \\beta_2 + \\beta_3 + \\beta_4 = 1 \\\\\n",
    "\\dots\n",
    "\\end{equation}\n",
    "\n",
    "Solving the system with Julia below"
   ]
  },
  {
   "cell_type": "code",
   "execution_count": 281,
   "metadata": {},
   "outputs": [
    {
     "data": {
      "text/plain": [
       "5-element Array{Float64,1}:\n",
       " -0.026388888888888518\n",
       "  0.14722222222222092 \n",
       " -0.36666666666666475 \n",
       "  0.8972222222222209  \n",
       "  0.3486111111111114  "
      ]
     },
     "execution_count": 281,
     "metadata": {},
     "output_type": "execute_result"
    }
   ],
   "source": [
    "A = [1 1 1 1 1;\n",
    "     0 2 4 6 8;\n",
    "     0 1^2*3 2^2*3 3^2*3 4^2*3;\n",
    "     0 1^3*4 2^3*4 3^3*4 4^3*4;\n",
    "     0 1^4*5 2^4*5 3^4*5 4^4*5]\n",
    "A\n",
    "b =[-3^1+4^1,-3^2+4^2, -3^3+4^3, -3^4+4^4, -3^5+4^5]\n",
    "\n",
    "A\\b"
   ]
  },
  {
   "cell_type": "markdown",
   "metadata": {},
   "source": [
    "Where A\\b solves for the coefficients of the method"
   ]
  },
  {
   "cell_type": "markdown",
   "metadata": {},
   "source": [
    "## Problem 2\n",
    "\n",
    "The $r$-step Nystrom method is given as follows: Replace $f(u(t),t)$ in the exact formulation below\n",
    "\n",
    "$$u(t_{n+r})-u(t_{n+r-2}) = h\\int_{t_{n+r-2}}^{t_{n+r}} f(u(t),t) dt$$\n",
    "\n",
    "by a Lagrange polynomial interpolating at $f_{n},\\ldots,f_{n+r}$, where $f_{n+s}\\equiv f(u_{n+s},t_{n+s})$. The explicit scheme similar to Adams-Bashforth method is called the Nystrom method.  The implicit scheme similar to Adams-Moulton method is called the Milne method.\n",
    "\n",
    "a) Derive the Nystrom method with $r=1$ and $r=2$. Prove that both result in the same method, and prove that the LTE is of order $O(h^3)$.\n",
    "\n",
    "b) Derive the Milne method with $r=2$, and prove that the LTE is of order $O(h^5)$.\n"
   ]
  },
  {
   "cell_type": "markdown",
   "metadata": {},
   "source": [
    "**(a)**  \n",
    "for $r=1$\n",
    "\\begin{equation}\n",
    "u(t_{n+1}) - u(t_{n-1}) = h\\int_{t_{n-1}}^{t_{n+1}} f(u(t),t) dt=h( \\beta_{n-1}f_{n-1} + \\beta_{n}f_{n})\n",
    "\\end{equation}\n",
    "\n",
    "for $r=2$\n",
    "\\begin{equation}\n",
    "u(t_{n+2}) - u(t_{n}) = h\\int_{t_{n}}^{t_{n+2}} f(u(t),t) dt= h(\\beta_{n}f_{n} + \\beta_{n+1}f_{n+1})\n",
    "\\end{equation}\n",
    "\n",
    "Then by a change of variable we can see that they are the same methods"
   ]
  },
  {
   "cell_type": "markdown",
   "metadata": {},
   "source": [
    "Using the same method as before  \n",
    "\\begin{equation}\n",
    "\\beta_{0} + \\beta_1 = 2 \\\\\n",
    "2\\beta_1 = 2^2 \\\\\n",
    "\\implies \\beta_1 = 2 \\\\\n",
    "\\beta_0 = 0\n",
    "\\end{equation}"
   ]
  },
  {
   "cell_type": "markdown",
   "metadata": {},
   "source": [
    "So the method is $u(t_{n+2}) - u(t_{n}) = 2hf_{n+1}$ and since this is a LMM then the order is $O(h^3)$"
   ]
  },
  {
   "cell_type": "markdown",
   "metadata": {},
   "source": [
    "**(b)**  \n",
    "for $r=2$\n",
    "\\begin{equation}\n",
    "u(t_{n+1}) - u(t_{n-1}) = h\\int_{t_{n-1}}^{t_{n+1}} f(u(t),t) dt= h( \\beta_{n-1}f_{n-1} + \\beta_{n}f_{n} + \\beta_{n+1}f_{n+1})\n",
    "\\end{equation}\n",
    "\n",
    "Using the same method as before  \n",
    "\\begin{equation}\n",
    "\\beta_{0} + \\beta_1 + \\beta_2 = 2 \\\\\n",
    "2\\beta_1 + 2\\cdot2\\beta_2 = 2^2 \\\\\n",
    "3\\beta_1 + \\beta_2\\cdot2^2\\cdot3 = 2^3\n",
    "\\end{equation}"
   ]
  },
  {
   "cell_type": "code",
   "execution_count": 278,
   "metadata": {},
   "outputs": [
    {
     "data": {
      "text/plain": [
       "3-element Array{Float64,1}:\n",
       " 0.33333333333333326\n",
       " 1.3333333333333335 \n",
       " 0.3333333333333333 "
      ]
     },
     "execution_count": 278,
     "metadata": {},
     "output_type": "execute_result"
    }
   ],
   "source": [
    "A = [1 1 1;\n",
    "     0 2 4;\n",
    "     0 3 12]\n",
    "b = [2, 4, 8]\n",
    "A\\b"
   ]
  },
  {
   "cell_type": "markdown",
   "metadata": {},
   "source": [
    "So the method is $u(t_{n+1}) - u(t_{n-1}) = \\frac{h}{3}f_{n-1} + \\frac{4h}{3}f_{n} + \\frac{h}{3}f_{n+1}$"
   ]
  },
  {
   "cell_type": "code",
   "execution_count": 277,
   "metadata": {},
   "outputs": [
    {
     "data": {
      "text/plain": [
       "4-element Array{Float64,1}:\n",
       " 0.33333333333333326\n",
       " 1.3333333333333335 \n",
       " 0.3333333333333333 \n",
       " 0.0                "
      ]
     },
     "execution_count": 277,
     "metadata": {},
     "output_type": "execute_result"
    }
   ],
   "source": [
    "A = [1 1 1 1;\n",
    "     0 2 4 6;\n",
    "     0 1^2*3 2^2*3 3^2*3;\n",
    "     0 1^3*4 2^3*4 3^3*4]\n",
    "\n",
    "b = [2, 4, 8, 16]\n",
    "A\\b"
   ]
  },
  {
   "cell_type": "markdown",
   "metadata": {},
   "source": [
    "Since this method is the same as when $r=3$ and this is an LMM then the order is $O(h^5)$"
   ]
  },
  {
   "cell_type": "markdown",
   "metadata": {},
   "source": [
    "## Problem 3\n",
    "\n",
    "The Rabi oscillation in quantum physics can be modeled by the following ODEs\n",
    "$$\n",
    "\\begin{split}\n",
    "i\\partial_t u_1(t) &= \\Omega \\cos (\\omega t) u_2(t),\\\\\n",
    "i\\partial_t u_2(t) &= \\Omega_0 u_2(t) + \\Omega \\cos (\\omega t) u_1(t).\n",
    "\\end{split}\n",
    "$$\n",
    "\n",
    "This model describes the transition of an electron from state 1 to state 2 under an external electric field $\\mathcal{E}(t)=\\Omega \\cos(\\omega t)$. $u_1(t),u_2(t)\\in \\mathbb{C}$, and $\\Omega_0$ is the energy gap between the two states.\n",
    "\n",
    "\n",
    "Given Initial condition $u_1(0)=1,u_2(0)=0$, and $\\Omega_0=2\\pi,\\Omega=1.0$.  Implement the 4th order Runge-Kutta method (rk4) which returns the full trajectory of the two components of $u$ as $u[1,:]$ and $u[2,:]$.\n",
    "\n",
    "a) Use the RK4 scheme with $\\Delta t = 0.1$ to solve this equation and plot out the trajectory of $|u_1(t)|^2$,$|u_2(t)|^2$ on the interval $[0,10\\pi]$ for $\\omega=\\pi$. Do the same calculation for $\\omega=2\\pi$ and you should observe the resonance behavior (i.e. $|u_2|$ can reach 1.0 at some t).\n",
    "\n",
    "b) Prove that $A(t)=|u_1(t)|^2+|u_2(t)|^2$ is a conserved quantity along the trajectory.\n",
    "\n",
    "c) Plot $A(t)-1$ obtained from the RK4 scheme using $h=0.1$ and $0.01$, respectively. "
   ]
  },
  {
   "cell_type": "code",
   "execution_count": 1,
   "metadata": {},
   "outputs": [
    {
     "data": {
      "image/png": "[encoded data removed]",
      "text/plain": [
       "Figure(PyObject <Figure size 500x500 with 1 Axes>)"
      ]
     },
     "metadata": {},
     "output_type": "display_data"
    },
    {
     "data": {
      "image/png": "[encoded data removed]",
      "text/plain": [
       "Figure(PyObject <Figure size 500x500 with 1 Axes>)"
      ]
     },
     "metadata": {},
     "output_type": "display_data"
    },
    {
     "data": {
      "text/plain": [
       "PyObject <matplotlib.legend.Legend object at 0x7f4a8bad6f98>"
      ]
     },
     "execution_count": 1,
     "metadata": {},
     "output_type": "execute_result"
    }
   ],
   "source": [
    "using LinearAlgebra \n",
    "\n",
    "function func(u,t,Omega,Omega0,w)\n",
    "    v = [0.0, 0.0]\n",
    "    v[1] = (Omega.*cos(w*t).*u[2])\n",
    "    v[2] = (Omega0.*u[2] + Omega.*cos(w*t)*u[1])\n",
    "    return v\n",
    "end\n",
    "\n",
    "function rk4(N,T,u0,Omega,Omega0,w)\n",
    "    u = zeros(2, N+1)\n",
    "    u[:, 1] = u0\n",
    "    h = T/N\n",
    "    t = 0\n",
    "    for i = 1 : N\n",
    "        uₙ = u[:,i]\n",
    "        \n",
    "        k1 = func(uₙ, t, Omega, Omega0, w)\n",
    "        k2 = func(uₙ+k1./2, t+h/2, Omega, Omega0, w)\n",
    "        k3 = func(uₙ+k2./2, t+h/2, Omega, Omega0, w)\n",
    "        k4 = func(uₙ+k3, t+h, Omega, Omega0, w)\n",
    "        \n",
    "        u[:, i + 1] = u[:, i] + h/6 .*(k1 + 2*k2 + 2*k3 + k4)\n",
    "        \n",
    "        t = t + h\n",
    "    end\n",
    "    return u\n",
    "end\n",
    "\n",
    "using PyPlot\n",
    "\n",
    "##############################\n",
    "T = 10.0*pi\n",
    "dt = 0.01\n",
    "N = round(Int64,T/dt)\n",
    "t = collect(0:N)*dt\n",
    "Omega = 1.0\n",
    "Omega0 = 2*pi\n",
    "w = pi\n",
    "u0 = [1.0,0.0]\n",
    "\n",
    "# RK4\n",
    "u = rk4(N,T,u0,Omega,Omega0,w)\n",
    "\n",
    "\n",
    "figure(1,figsize=(5,5))\n",
    "plot(t,vec(abs.(u[1,:]).^2),\"r-\",label=L\"|u_1|^2\")\n",
    "plot(t,vec(abs.(u[2,:]).^2),\"b-\",label=L\"|u_2|^2\")\n",
    "# plot(vec(abs.(u[1,:]).^2),vec(abs.(u[2,:]).^2),\"b-\",label=L\"|u_1|,|u_2|\")\n",
    "xlabel(\"t\")\n",
    "legend()\n",
    "title(L\"rk4,\\Delta t=0.1,\\omega=\\pi\")\n",
    "figure(2,figsize=(5,5))\n",
    "plot(t,vec(abs.(u[1,:]).^2+abs.(u[2,:]).^2),\"b-\",label=L\"$|u_1|^2+|u_2|^2$\")\n",
    "xlabel(\"t\")\n",
    "title(L\"rk4,\\Delta t=0.1,\\omega=\\pi\")\n",
    "legend()\n"
   ]
  },
  {
   "cell_type": "markdown",
   "metadata": {},
   "source": [
    "## Problem 4\n",
    "\n",
    "\n",
    "Consider the heat equation in 1D with periodic boundary conditions\n",
    "\n",
    "$$u_t(x,t) = u_{xx}(x,t),\\quad x\\in [0,2n\\pi],$$\n",
    "\n",
    "$$u(x,0)=e^{-5(x-\\pi)^2}, \\quad u(0,t)=u(2\\pi,t), u_x(0,t)=u_x(2\\pi,t)$$\n",
    "\n",
    "Here $\\varepsilon = 1.0$. Use the central finite difference scheme to discretize $u_{xx}(x,t)$, with a uniform grid spacing $\\Delta x=2\\pi/100$, i.e.\n",
    "\n",
    "$$u_{xx}(x_i,t_n)\\approx \\frac{u(x_i+\\Delta x,t_n)-2u(x_i,t_n)+u(x_i-\\Delta x,t_n)}{\\Delta x^2}.$$\n",
    "\n",
    "\n",
    "\n",
    "Obtain the solution $u(x,T)$ at $T=1.0$ using the following methods.\n",
    "\n",
    "a) Implement a `ForwardEuler` method, using the forward Euler for time discretization and $h =0.001$. What would happen if you use a time step $h=0.01$?\n",
    "\n",
    "b) Implement a `Trapezoid` method, using a trapezoidal rule for time discretization and use $h=0.1$. Since the equation is linear, you can solve a linear equation to treat this implicit scheme.\n",
    "\n",
    "c) Implement a `TrapezoidAB2` method, which uses an adaptive time stepping strategy (with the \"Milne device\") propagated by the trapezoidal rule, with its error estimated on-the-fly from the Adams-Bashforth 2nd order scheme.  The initial time step is $h=0.001$. Plot out the history of the size step along the history of the simulation. \n",
    "\n",
    "Read [Ise] Chap 6.2 if needed for more information. Some \"sloppiness\" in the interpolation procedure can be tolerated if it makes the implementation easier.\n",
    "\n",
    "**Note**: You should implement this example using **sparse matrices** whenever possible. See \n",
    "\n",
    "https://docs.julialang.org/en/v1/stdlib/SparseArrays/index.html\n",
    "\n",
    "for references on sparse linear algebra.\n"
   ]
  },
  {
   "cell_type": "code",
   "execution_count": 322,
   "metadata": {},
   "outputs": [
    {
     "data": {
      "image/png": "[encoded data removed]",
      "text/plain": [
       "Figure(PyObject <Figure size 500x500 with 1 Axes>)"
      ]
     },
     "metadata": {},
     "output_type": "display_data"
    },
    {
     "data": {
      "text/plain": [
       "1-element Array{PyCall.PyObject,1}:\n",
       " PyObject <matplotlib.lines.Line2D object at 0x7f069900f198>"
      ]
     },
     "execution_count": 322,
     "metadata": {},
     "output_type": "execute_result"
    }
   ],
   "source": [
    "function Trapezoid(N,T,u0)\n",
    "    u = spzeros(100, N)\n",
    "    u[:, 1] = u0\n",
    "    h = T/N\n",
    "\n",
    "    for i = 1 : N-1\n",
    "        uₙ⁽¹⁾ = func(u[:,i])\n",
    "        uₙ₊₁ = u[:,i] + h*uₙ⁽¹⁾\n",
    "        uₙ₊₁⁽¹⁾ = func(uₙ₊₁)\n",
    "        u[:, i+1] = u[:,i] + h/2*(uₙ⁽¹⁾ + uₙ₊₁⁽¹⁾)\n",
    "#         u[:, i+1] = u[:, i] + h/2*(func(u[:,i]) + \n",
    "    end\n",
    "    return u\n",
    "end\n",
    "\n",
    "A = Trapezoid(N,T,ut)\n",
    "figure(1,figsize=(5,5))\n",
    "plot(xs[1:99], A[1:99, 1000],\"r-\",label=L\"ans\")"
   ]
  },
  {
   "cell_type": "markdown",
   "metadata": {},
   "source": []
  },
  {
   "cell_type": "code",
   "execution_count": 327,
   "metadata": {},
   "outputs": [
    {
     "data": {
      "image/png": "[encoded data removed]",
      "text/plain": [
       "Figure(PyObject <Figure size 500x500 with 1 Axes>)"
      ]
     },
     "metadata": {},
     "output_type": "display_data"
    },
    {
     "data": {
      "text/plain": [
       "1-element Array{PyCall.PyObject,1}:\n",
       " PyObject <matplotlib.lines.Line2D object at 0x7f0698def940>"
      ]
     },
     "execution_count": 327,
     "metadata": {},
     "output_type": "execute_result"
    }
   ],
   "source": [
    "function AB2(N,T,u0)\n",
    "    u = spzeros(100, N)\n",
    "    u[:, 1] = u0\n",
    "    h = T/N\n",
    "\n",
    "    #use trapezoid rule\n",
    "#     uₙ⁽¹⁾ = func(u[:,1])\n",
    "#     uₙ₊₁ = u[:,1] + h*uₙ⁽¹⁾\n",
    "#     uₙ₊₁⁽¹⁾ = func(uₙ₊₁)\n",
    "#     u[:, 2] = u[:,1] + h/2*(uₙ⁽¹⁾ + uₙ₊₁⁽¹⁾)\n",
    "    #use euler\n",
    "    u[:,2] = u[:,1] + h*func(u[:,1])\n",
    "    \n",
    "    for i = 2 : N-1\n",
    "#         uₙ⁽¹⁾ = func(u[:,i])\n",
    "#         uₙ₊₁ = u[:,i] + h*uₙ⁽¹⁾\n",
    "#         uₙ₊₁⁽¹⁾ = func(uₙ₊₁)\n",
    "        u[:, i+1] = u[:,i] + h*((3/2)*u[:,i] - (1/2)*u[:,i-1])\n",
    "    end\n",
    "    return u\n",
    "end\n",
    "A = AB2(N,T,ut)\n",
    "figure(1,figsize=(5,5))\n",
    "plot(xs[1:99], A[1:99, 1000],\"r-\",label=L\"ans\")"
   ]
  },
  {
   "cell_type": "code",
   "execution_count": 316,
   "metadata": {},
   "outputs": [
    {
     "data": {
      "image/png": "[encoded data removed]",
      "text/plain": [
       "Figure(PyObject <Figure size 500x500 with 1 Axes>)"
      ]
     },
     "metadata": {},
     "output_type": "display_data"
    },
    {
     "data": {
      "text/plain": [
       "MilneDevice (generic function with 1 method)"
      ]
     },
     "execution_count": 316,
     "metadata": {},
     "output_type": "execute_result"
    }
   ],
   "source": [
    "function AB2(h,u0)\n",
    "    u = u0\n",
    "\n",
    "    uₙ⁽¹⁾ = func(u0)\n",
    "    uₙ₊₁ = u0 + h*uₙ⁽¹⁾\n",
    "    uₙ₊₁⁽¹⁾ = func(uₙ₊₁)\n",
    "    u1 = u0 + h/2*(uₙ⁽¹⁾ + uₙ₊₁⁽¹⁾)\n",
    "    \n",
    "    for i = 2 : N-1\n",
    "        uₙ⁽¹⁾ = func(u)\n",
    "        uₙ₊₁ = u+ h*uₙ⁽¹⁾\n",
    "        uₙ₊₁⁽¹⁾ = func(uₙ₊₁)\n",
    "        u = u1 + h*3/2*u1 + h/2*u0\n",
    "        u0 = u1\n",
    "        u1 = u\n",
    "    end\n",
    "    return u\n",
    "end\n",
    "\n",
    "A = AB2(T/N,ut)\n",
    "figure(1,figsize=(5,5))\n",
    "plot(xs, A,\"r-\",label=L\"ans\")\n",
    "\n",
    "function MilneDevice(h,u0)\n",
    "    \n",
    "end"
   ]
  },
  {
   "cell_type": "markdown",
   "metadata": {},
   "source": [
    "..."
   ]
  }
 ],
 "metadata": {
  "kernelspec": {
   "display_name": "Julia 1.2.0",
   "language": "julia",
   "name": "julia-1.2"
  },
  "language_info": {
   "file_extension": ".jl",
   "mimetype": "application/julia",
   "name": "julia",
   "version": "1.2.0"
  }
 },
 "nbformat": 4,
 "nbformat_minor": 4
}
