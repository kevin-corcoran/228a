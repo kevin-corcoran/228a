{
 "cells": [
  {
   "cell_type": "markdown",
   "metadata": {},
   "source": [
    "## Code submission\n",
    "\n",
    "If you would like to use Jupyter (perhaps the easiest way), just submit the notebook file to bCourses. Name it lastname_firstname_(Homework#).ipynb. For example, obama_barack_1.ipynb. This applies to the case if you **only** have a notebook file.\n",
    "\n",
    "If you use MATLAB or Julia/Python (not the notebook), **or** if you have multiple files, name your programs as p(Homework#)_(Problem#).m. For instance, for homework 1, problem 2, name it as p1_2.m (or p1_2.jl,p1_2.py). Then **zip everything** into a single file lastname_firstname_(Homework#).zip, and submit the zip file to bCourses. For example, obama_barack_1.zip.\n",
    "\n",
    "For proof-related problems, type your solution using **LaTeX (no other format is accepted)**. You do not need to write down every step of the derivation, but make sure the logic is clear and understandable.\n",
    "\n",
    "For implementation based problems, the problem description may not include all the information for the answer to be uniquely defined. For instance, your answer might depend on the choice of the mesh size. This is OK."
   ]
  },
  {
   "cell_type": "markdown",
   "metadata": {},
   "source": [
    "## Problem 1\n",
    "\n",
    "Consider $u'(t)=f(u(t)),u(0)=u_0$, and $f:\\mathbb{R}^{d}\\to \\mathbb{R}$ \n",
    "is Lipschitz continuous with a\n",
    "Lipschitz constant $L$. Let $\\max \\Vert u''(t)\\Vert$ be bounded by a constant $M$ for $0\\le t\\le T$. Prove that the backward Euler method converges as the step size $h\\to 0$."
   ]
  },
  {
   "cell_type": "markdown",
   "metadata": {},
   "source": [
    "**Problem 1**\n",
    "\n",
    "Taylor expanding around $t_n$ to derive Backwards Euler\n",
    "\n",
    "$ \\begin{align}\n",
    "u(t_{n} - h) = u(t_n) + u'(t_n)(-h) + \\frac{u''(\\xi)}{2!}h^2 && \\text{for $\\xi\\in[t_{n+1}, t_n]$ and  $h := t_{n+1} - t_n$} \\\\\n",
    "\\end{align} $\n",
    "\n",
    "Rearranging and setting $t_n - h [= t_{n-1}] = t_n \\text{ and } t_n = t_{n+1} $\n",
    "\n",
    "$\n",
    "\\begin{align}\n",
    "u(t_{n+1})  = u(t_n) + u'(t_{n+1})h + \\frac{u''(\\xi)}{2!}h^2 && \\text{Backwards Euler} \\\\\n",
    "\\frac{u(t_{n+1}) - u(t_{n})}{h} - u'(t_{n+1})  = \\frac{u''(\\xi)}{2}h\n",
    "\\end{align}\n",
    "$\n",
    "\n",
    "Noting $\\lim_{h \\to 0} \\text{ is equivalent to } lim_{t_{n+1} \\to t_n}$\n",
    "\n",
    "$\n",
    "\\begin{align}\n",
    "lim_{t_{n+1} \\to t_n} \\left(\\frac{u(t_{n+1}) - u(t_{n})}{t_{n+1} - t_n} - u'(t_{n+1}) \\right) = lim_{t_{n+1} \\to t_n}\\frac{u''(\\xi)}{2}(t_{n+1}-t_n) && (1)\n",
    "\\end{align}\n",
    "$\n",
    "\n",
    "We want to show $\\left\\| lim_{t_{n+1} \\to t_n} \\left(\\frac{u(t_{n+1}) - u(t_{n})}{t_{n+1} - t_n}  \\right) - u'(t_{n+1}) \\right\\| = 0 $. This is equivalent to Backwards Euler converging as $h \\to 0$\n",
    "\n",
    "\n",
    "Taking the norm of the limit of the right hand side of $(1)$\n",
    "\n",
    "$ = \\left\\| lim_{t_{n+1} \\to t_n}\\frac{u''(\\xi)}{2}(t_{n+1}-t_n) \\right\\|$\n",
    "\n",
    "$\n",
    "\\begin{align}\n",
    "\\leq \\| \\frac{M}{2}\\lim_{t_{n+1} \\to t_n} (t_{n+1} - t_n) \\| && && && \\text{Since $\\| u''(\\xi) |\\ \\leq M$} \\\\\n",
    "\\end{align}\n",
    "$\n",
    "\n",
    "$ = 0$\n",
    "\n",
    "Therefore $\\left\\| lim_{t_{n+1} \\to t_n} \\left(\\frac{u(t_{n+1}) - u(t_{n})}{t_{n+1} - t_n}  \\right) - u'(t_{n+1}) \\right\\| = \\left| lim_{t_{n+1} \\to t_n} \\left(\\frac{u(t_{n+1}) - u(t_{n})}{t_{n+1} - t_n}  \\right) - u'(t_{n+1}) \\right| = 0 $\n",
    "\n",
    "and Backward Eulers Method converges as $h \\to 0$ when $u''$ is bounded ($u''$ implies that $f$ is $\\text{lipschitz}$)"
   ]
  },
  {
   "cell_type": "markdown",
   "metadata": {},
   "source": [
    "## Problem 2\n",
    "\n",
    "Consider the initial value problem\n",
    "$$\n",
    "\\begin{split}\n",
    "u'_{1} &= u_{1},\\\\\n",
    "u'_{2} &= u_{1} - u_{2},\\\\\n",
    "\\end{split}\n",
    "$$\n",
    "with initial condition $(u_{1}(0),u_{2}(0))=(1,1)$. \n",
    "\n",
    "1. Find a way to solve the problem above analytically, and write down the answer of u(T=2.0).\n",
    "\n",
    "2. Solve the problem numerically using the trapezoidal rule. Verify that the solution agrees with the exact solution at time $T=2.0$. Use a number of step sizes $h=2^{-i},i=5,\\ldots,10.$ Plot the error $e=\\Vert u(1)-u^*(1)\\Vert_2$ v.s. step size $h$ in a loglog plot, and estimate the convergence rate for each scheme.\n",
    "\n",
    "**Note**: the routine for computing the error, plotting and computing the slope is provided. "
   ]
  },
  {
   "cell_type": "markdown",
   "metadata": {},
   "source": [
    "**Problem 2.1**\n",
    "\n",
    "let $\\vec{u} = \\begin{pmatrix} u_1 \\\\ u_2 \\end{pmatrix} \\text{, }\n",
    "     \\vec{u}' = \\begin{pmatrix} u_1' \\\\ u_2' \\end{pmatrix} \\text{, }\n",
    "     A = \\begin{pmatrix} 1 & 0 \\\\ 1 & -1 \\end{pmatrix} $\n",
    "\n",
    "then $\\vec{u}' = A\\vec{u}$ is the system we want to solve\n",
    "\n",
    "$$\n",
    "\\begin{align}\n",
    "\\vec{u}' & = A\\vec{u} \\\\\n",
    "\\vec{u}' & = QDQ^{-1}\\vec{u} && && && \\text{ diagonalizing A} \\\\\n",
    "Q^{-1}\\vec{u}' & = DQ^{-1}\\vec{u} \\\\\n",
    "\\vec{v}'  & = D\\vec{v} && && && \\text{ letting  $ v = Q^{-1}\\vec{u} $  } \\\\\n",
    "\\end{align}\n",
    "$$\n",
    "\n",
    "Then we have the system $ \\begin{pmatrix} v_1' \\\\ v_2' \\end{pmatrix} = \n",
    "                                            \\begin{pmatrix} \\lambda_1 & 0 \\\\ 0 & \\lambda_2 \\end{pmatrix} \n",
    "                                                \\begin{pmatrix} v_1 \\\\ v_2 \\end{pmatrix} $\n",
    "and then $ \\vec{u} = Q\\vec{v} $ will solve the original system.\n",
    "\n",
    "$\n",
    "\\newcommand{\\Q}{\\begin{pmatrix} 0 & 2 \\\\ 1 & 1 \\end{pmatrix}} \n",
    "\\newcommand{\\D}{\\begin{pmatrix} -1 & 0 \\\\ 0  & 1 \\end{pmatrix}}\n",
    "$\n",
    "Diagonalizing $A$ yields $Q = \\Q $ and  $D = \\D$\n",
    "\n",
    "$$\n",
    "\\begin{align}\n",
    "v_1' = \\lambda_1v_1 = -v_1 \\implies v_1 = C_1e^{-t} \\\\\n",
    "v_2' = \\lambda_2v_2 = v_2 \\implies v_2 = C_2e^{t} \\\\\n",
    "\\end{align}\n",
    "$$\n",
    "\n",
    "$$\n",
    "\\begin{align}\n",
    "\\vec{u} & = \\Q \\vec{v} \\\\\n",
    "& = \\begin{pmatrix} 2C_2e^{t} \\\\ C_1e^{-t} + C_2e^{t} \\end{pmatrix}\n",
    "\\end{align}\n",
    "$$\n",
    "\n",
    "initial conditions $(u_{1}(0),u_{2}(0))=(1,1)$\n",
    "\n",
    "$\n",
    "\\begin{pmatrix} 2C_2 \\\\ C_1 + C_2 \\end{pmatrix} = \\begin{pmatrix} 1 \\\\ 1 \\end{pmatrix}\n",
    "\\implies C_2 = \\frac{1}{2} \\text{ and } C_2 = \\frac{1}{2}\n",
    "$\n",
    "\n",
    "finally,\n",
    "\n",
    "$\\boxed{ \\vec{u} = \\begin{pmatrix} e^t \\\\ \\frac{1}{2}\\left( e^{-t} + e^t \\right) \\end{pmatrix} }  $"
   ]
  },
  {
   "cell_type": "code",
   "execution_count": 9,
   "metadata": {},
   "outputs": [
    {
     "name": "stdout",
     "output_type": "stream",
     "text": [
      "[2, 1]"
     ]
    }
   ],
   "source": [
    "using LinearAlgebra\n",
    "A = [1 0; 1 -1]\n",
    "D = Diagonal(eigvals(A))\n",
    "Q = eigvecs(A)\n",
    "Q⁻¹ = inv(Q)\n",
    "# Q*D*Q⁻¹\n",
    "# Q\n",
    "# D\n",
    "# ...\n",
    "u₀ = [1 , 1]\n",
    "u₀ = u₀ + [u₀[1], u₀[1] - u₀[2]]\n",
    "print(u₀)"
   ]
  },
  {
   "cell_type": "markdown",
   "metadata": {},
   "source": [
    "implicit trapezoidal method $ w_{j+1} = w_j + \\frac{h}{2} \\left( f(t_{j+1}, w_{j+1}) + f(t_j, w_j) \\right)$"
   ]
  },
  {
   "cell_type": "code",
   "execution_count": 10,
   "metadata": {},
   "outputs": [
    {
     "data": {
      "image/png": "[encoded data removed]",
      "text/plain": [
       "Figure(PyObject <Figure size 400x400 with 1 Axes>)"
      ]
     },
     "metadata": {},
     "output_type": "display_data"
    },
    {
     "data": {
      "text/plain": [
       "1.9866440740311346"
      ]
     },
     "execution_count": 10,
     "metadata": {},
     "output_type": "execute_result"
    }
   ],
   "source": [
    "using LinearAlgebra\n",
    "using PyPlot\n",
    "\n",
    "u⃗⁽¹⁾(t) = [exp(t), 1/2*(-exp(-t) + exp(t))] # = [u1, u1 - u2]\n",
    "\n",
    "function Trapezoid(N,T,u0)\n",
    "    # Fill code here\n",
    "    h = T/N\n",
    "    u = u0\n",
    "    \n",
    "    for n = 1 : N\n",
    "        uₙ⁽¹⁾ = A*u\n",
    "        uₙ₊₁⁽¹⁾ = A*(u + h*uₙ⁽¹⁾) # approximate f(tₙ₊₁, uₙ₊₁) by one step of eulers\n",
    "        u = u + h/2*(uₙ⁽¹⁾ + uₙ₊₁⁽¹⁾)\n",
    "#         u = u + h/2 * (A*u + A*(u + h*A*u)) \n",
    "    end\n",
    "    \n",
    "#     for n = 1 : N\n",
    "#         u = u + h/2*(A*u + u⃗⁽¹⁾(n*h)) # this requires knowing the derivative of the solution\n",
    "#     end\n",
    "    \n",
    "    \n",
    "    \n",
    "    return u\n",
    "end\n",
    "\n",
    "u0 = [1.0,1.0]\n",
    "T = 2.0\n",
    "# You need to compute uexact at T=2.0\n",
    "u⃗(t) = [exp(t) ; 1/2*(exp(-t) + exp(t))]\n",
    "uexact = u⃗(T)\n",
    "\n",
    "# Plotting routine provided below\n",
    "NList = 2 .^(5:10)\n",
    "errTrapeList = zeros(size(NList))\n",
    "for i = 1 : length(NList)\n",
    "    N = NList[i]\n",
    "    utrape = Trapezoid(N,T,u0)\n",
    "    errTrapeList[i] = norm(utrape-uexact)\n",
    "end\n",
    "\n",
    "figure(1,figsize=(4,4))\n",
    "loglog(T./NList, errTrapeList, \"r-d\", label=\"Trapezoid\")\n",
    "xlabel(L\"h\")\n",
    "ylabel(L\"||u-u^*||_2\")\n",
    "legend()\n",
    "\n",
    "slopeTrape = -(log(errTrapeList[end])-log(errTrapeList[1])) / \n",
    "(log(NList[end]) - log(NList[1]))\n",
    "\n",
    "# println(\"Slope for Trapezoid = \", slopeTrape )"
   ]
  },
  {
   "cell_type": "markdown",
   "metadata": {},
   "source": [
    "## Problem 3\n",
    "\n",
    "Consider a simple pendulum of length $l$, forming an angle $\\theta(t)$ with the\n",
    "vertical axis. The equation of motion for the pendulum is given by\n",
    "\n",
    "$$\\theta''(t)+\\frac{g}{l} \\sin(\\theta(t))=0,$$\n",
    "\n",
    "where $g$ is the gravitational constant, with given initial conditions\n",
    "\n",
    "$$\\theta(0)=\\theta_0,\\quad \\theta'(0)=\\omega_0.$$\n",
    "\n",
    "1. Rewrite the equation as a system of first order equations in $u(t)=(\\theta(t),\\omega(t))$. Fill the `func` function below. \n",
    "\n",
    "2. Write a forward Euler method. Use a sufficiently small time step, and plot the solution of $\\theta(t)$ with $g=l=1$ and initial condition $(\\theta(0),\\omega(0))=(2.5,0.0)$ till $T=25$. Since no exact solution is available, measure the convergence rate by means of the solution at T=25 obtained from three time steps h, h/2, and h/4."
   ]
  },
  {
   "cell_type": "markdown",
   "metadata": {},
   "source": [
    "**Problem 3.1** \n",
    "$\n",
    "\\newcommand{\\ul}{\\begin{pmatrix}  \\omega \\\\ \\theta \\end{pmatrix}}\n",
    "\\newcommand{\\ur}{\\begin{pmatrix} -\\frac{g}{l}sin(\\theta(t)) \\\\ \\omega \\end{pmatrix}}\n",
    "$\n",
    "$$\n",
    "\\theta''(t) = -\\frac{g}{l}sin(\\theta(t)) \\\\\n",
    "\\text{let } \\omega = \\theta'(t) \\\\\n",
    "\\text{then } \\vec{u}' = \\ul' = \\ur\n",
    "$$"
   ]
  },
  {
   "cell_type": "code",
   "execution_count": 11,
   "metadata": {},
   "outputs": [
    {
     "data": {
      "image/png": "[encoded data removed]",
      "text/plain": [
       "Figure(PyObject <Figure size 400x400 with 1 Axes>)"
      ]
     },
     "metadata": {},
     "output_type": "display_data"
    },
    {
     "data": {
      "text/plain": [
       "PyObject Text(26.0, 0.5, '$\\\\theta(t)$')"
      ]
     },
     "execution_count": 11,
     "metadata": {},
     "output_type": "execute_result"
    }
   ],
   "source": [
    "function func(u,g,l) # calculates derivative of u⃗\n",
    "    # fill here for evaluating f(u)\n",
    "    v = [0.0, 0.0]\n",
    "    v[1] = -g/l*sin(u[2])\n",
    "    v[2] = u[1]\n",
    "    return v\n",
    "end\n",
    "\n",
    "function ForwardEulerFull(N,T,u0,g,l)\n",
    "    # Fill code here. \n",
    "    # The output should be the full history of the solution\n",
    "    # i.e. the output u should be of size 2×(N+1)\n",
    "    # This is of course memory intensive and is not the \n",
    "    # commonly used approach\n",
    "    u = zeros(2,N+1)\n",
    "    u[:, 1] = u0\n",
    "    h = T/N\n",
    "\n",
    "    for i = 1 : N\n",
    "        u[:, i + 1] = u[:, i] + h*func(u[:, i], g, l)\n",
    "    end\n",
    "    return u\n",
    "end\n",
    "\n",
    "# This should plot out the solution\n",
    "g=1.0\n",
    "l=1.0\n",
    "T=25.0\n",
    "N=10000\n",
    "u0=[2.5,0.0]\n",
    "\n",
    "uEulerFull = ForwardEulerFull(N,T,u0,g,l)\n",
    "tList = collect(0:N)*(T/N)\n",
    "\n",
    "using PyPlot\n",
    "figure(1,figsize=(4,4))\n",
    "plot(tList,vec(uEulerFull[1,:]),\"b-\")\n",
    "xlabel(L\"t\")\n",
    "ylabel(L\"\\theta(t)\")"
   ]
  },
  {
   "cell_type": "code",
   "execution_count": 12,
   "metadata": {},
   "outputs": [
    {
     "data": {
      "text/plain": [
       "1.0159023649367134"
      ]
     },
     "execution_count": 12,
     "metadata": {},
     "output_type": "execute_result"
    }
   ],
   "source": [
    "function ForwardEuler(N,T,u0,g,l)\n",
    "    # Fill code here. \n",
    "    # The output contains only the final solution u(T)\n",
    "    u = u0\n",
    "    h = T/N\n",
    "\n",
    "    for i = 1 : N\n",
    "        u = u + h*func(u, g, l)\n",
    "    end\n",
    "    return u\n",
    "end\n",
    "\n",
    "g=1.0\n",
    "l=1.0\n",
    "T=25.0\n",
    "N=10000\n",
    "u0=[2.5,0.0]\n",
    "\n",
    "# Estimate the order of convergence\n",
    "uₕ = ForwardEuler(N, T, u0, g, l)\n",
    "uₕ₂ = ForwardEuler(N*2, T, u0, g, l)\n",
    "uₕ₄ = ForwardEuler(N*4, T, u0, g, l)\n",
    "xᵖ = (uₕ[2] - uₕ₂[2])/(uₕ₂[2] - uₕ₄[2]) # x = 2, p = order of convergence \n",
    "p = log(xᵖ)/log(2)"
   ]
  },
  {
   "cell_type": "markdown",
   "metadata": {},
   "source": [
    "## Problem 4\n",
    "\n",
    "1. Repeat Problem 3.2 using the trapezoidal rule. Modify your implementation in Problem 2 if needed.\n",
    "\n",
    "2. Repeat Problem 3.2 using the Adams-Bashforth 3 (AB3) scheme. Obtain the first two steps using forward Euler and trapezoidal rule, respectively. Observe the difference in terms of the convergence rate.\n",
    "\n"
   ]
  },
  {
   "cell_type": "code",
   "execution_count": 13,
   "metadata": {},
   "outputs": [
    {
     "data": {
      "text/plain": [
       "2.0288877729690915"
      ]
     },
     "execution_count": 13,
     "metadata": {},
     "output_type": "execute_result"
    }
   ],
   "source": [
    "# Need to solve the nonlinear equation in trapezoidal rule.\n",
    "function Trapezoid(N,T,u0,g,l)\n",
    "    # Fill code here. \n",
    "    h = T/N\n",
    "    u = u0\n",
    "    \n",
    "    for i = 1 : N\n",
    "        uₙ⁽¹⁾ = func(u, g, l)\n",
    "        uₙ₊₁ = u + h*uₙ⁽¹⁾\n",
    "        uₙ₊₁⁽¹⁾ = func(uₙ₊₁, g, l)\n",
    "        u = u + h/2*(uₙ⁽¹⁾ + uₙ₊₁⁽¹⁾)\n",
    "    end\n",
    "    # The output contains only the final solution u(T)\n",
    "    return u\n",
    "end\n",
    "\n",
    "# Estimate the order of convergence\n",
    "uₕ = Trapezoid(N, T, u0, g, l)\n",
    "uₕ₂ = Trapezoid(N*2, T, u0, g, l)\n",
    "uₕ₄ = Trapezoid(N*4, T, u0, g, l)\n",
    "xᵖ = (uₕ[2] - uₕ₂[2])/(uₕ₂[2] - uₕ₄[2]) # x = 2, p = order of convergence \n",
    "p = log(xᵖ)/log(2)"
   ]
  },
  {
   "cell_type": "markdown",
   "metadata": {},
   "source": [
    "$\n",
    "\\frac{du}{dt} = f(t, u) \\\\\n",
    "\\int_{t_n}^{t_{n+1}} \\frac{du}{dt} dt = \\int_{t_n}^{t_{n+1}} f(t, u) dt \\\\\n",
    "u_{n+1} - u_n = \\int_{t_n}^{t_{n+1}} f(t, u) dt \\\\\n",
    "$\n",
    "\n",
    "approximate $f$ by $3$ interpolation points\n",
    "\n",
    "$\n",
    "f(t, u(t)) \\approx \\frac{ (t-t_1) (t-t_2) }{ (t_0-t_1) (t_0-t_2) } f(t_0) + \\dots \\\\\n",
    "\\dots\n",
    "$"
   ]
  },
  {
   "cell_type": "markdown",
   "metadata": {},
   "source": [
    "Three step Adams Bashforth: $u_{n+1} = u_n + \\frac{h}{12} \\left[ 23 f(t_n, u_n) - 16 f(t_{n-1}, u_{n-1}) + 5 f(t_{n-2}, u_{n-2}) \\right]$"
   ]
  },
  {
   "cell_type": "code",
   "execution_count": 14,
   "metadata": {},
   "outputs": [
    {
     "data": {
      "text/plain": [
       "0.9999835632575426"
      ]
     },
     "execution_count": 14,
     "metadata": {},
     "output_type": "execute_result"
    }
   ],
   "source": [
    "# Need some method to compute u1,u2                                                                       \n",
    "\n",
    "function AB3(N,T,u0,g,l)\n",
    "    h = T/N\n",
    "    # first order method\n",
    "#     u1 = u0 + h*func(u0, g, l)\n",
    "#     u2 = u1 + h*func(u1, g, l)\n",
    "    # second order method\n",
    "    u1 = Trapezoid(1, T/N, u0, g, l)\n",
    "    u2 = Trapezoid(1, T/N, u1, g, l)\n",
    "    # need a higher order method?\n",
    "    \n",
    "    # Fill code here. \n",
    "    uₙ₊₁ = 0\n",
    "    uₙ = u2\n",
    "    uₙ₋₁ = u1\n",
    "    uₙ₋₂ = u0\n",
    "    \n",
    "    for n = 1 : N\n",
    "#         uₙ⁽¹⁾ = func(u, g, l)\n",
    "#         uₙ₊₁⁽¹⁾ = func(uₙ₊₁, g, l)\n",
    "        uₙ₊₁ = uₙ + h/12*(23*func(uₙ, g, l) - 16*func(uₙ₋₁, g, l) + 5*func(uₙ₋₂, g, l))\n",
    "    end\n",
    "    # The output contains only the final solution u(T)\n",
    "    u = uₙ₊₁\n",
    "    return u\n",
    "end\n",
    "\n",
    "g=1.0\n",
    "l=1.0\n",
    "T=25.0\n",
    "N=10000\n",
    "u0=[2.5,0.0]\n",
    "\n",
    "# Estimate the order of convergence\n",
    "uₕ = AB3(N, T, u0, g, l)\n",
    "uₕ₂ = AB3(N*2, T, u0, g, l)\n",
    "uₕ₄ = AB3(N*4, T, u0, g, l)\n",
    "xᵖ = (uₕ[2] - uₕ₂[2])/(uₕ₂[2] - uₕ₄[2]) # x = 2, p = order of convergence \n",
    "p = log(xᵖ)/log(2)"
   ]
  },
  {
   "cell_type": "code",
   "execution_count": null,
   "metadata": {},
   "outputs": [],
   "source": []
  },
  {
   "cell_type": "markdown",
   "metadata": {},
   "source": [
    "The order of convergence using first a first order method and then a second order method to approximate the first two steps of the three step Adams-Bashforth (AB3) appear to yield the same result. Both seem to suggest AB3 is a first order method. I don't think this is right, but I can't see what I'm doing wrong. I thought I might need a higher order method for those first two steps, but the analysis we did in class suggested that wasn't the case."
   ]
  }
 ],
 "metadata": {
  "kernelspec": {
   "display_name": "Julia 1.2.0",
   "language": "julia",
   "name": "julia-1.2"
  },
  "language_info": {
   "file_extension": ".jl",
   "mimetype": "application/julia",
   "name": "julia",
   "version": "1.2.0"
  }
 },
 "nbformat": 4,
 "nbformat_minor": 4
}
