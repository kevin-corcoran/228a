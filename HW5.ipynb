{
 "cells": [
  {
   "cell_type": "markdown",
   "metadata": {},
   "source": [
    "## Problem 1\n",
    "\n",
    "For a separable Hamiltonian system,\n",
    "\n",
    "$$H(p,q) = T(p)+V(q),\\quad p,q\\in \\mathbb{R}^d$$\n",
    "\n",
    "with corresponding Hamiltonian equation\n",
    "\n",
    "$$p'(t)=-\\nabla_q V(q),\\quad q'(t)=\\nabla_p T(p),$$\n",
    "\n",
    "\n",
    "prove that the symplectic Euler method \n",
    "\n",
    "$$\n",
    "\\begin{split}\n",
    "p_{n+1} &= p_n - \\Delta t \\nabla_q V(q_n),\\\\\n",
    "q_{n+1} &= q_n + \\Delta t \\nabla_p T(p_{n+1}),\n",
    "\\end{split}\n",
    "$$\n",
    "\n",
    "is \n",
    "\n",
    "a) an order 1 method.\n",
    "\n",
    "b) a symplectic method.\n",
    "\n",
    "Hint: \n",
    "\n",
    "Try to prove\n",
    "$$\n",
    "\\Phi_{n+1}^{\\top} J \\Phi_{n+1}=\\Phi_{n}^{\\top} J \\Phi_{n}.\n",
    "$$\n",
    "\n",
    "A useful fact is that for any symmetric matrix $X\\in \\mathbb{R}^{d\\times d}$,\n",
    "\n",
    "$$  \\begin{pmatrix}\n",
    "I & 0\\\\\n",
    "X & I\n",
    "\\end{pmatrix}^T J  \\begin{pmatrix}\n",
    "I & 0\\\\\n",
    "X & I\n",
    "\\end{pmatrix} = J, \\quad  \\begin{pmatrix}\n",
    "I & X\\\\\n",
    "0 & I\n",
    "\\end{pmatrix}^T J  \\begin{pmatrix}\n",
    "I & X\\\\\n",
    "0 & I\n",
    "\\end{pmatrix} = J.\n",
    "\\tag{SymFact}\n",
    "$$"
   ]
  },
  {
   "cell_type": "markdown",
   "metadata": {},
   "source": []
  },
  {
   "cell_type": "markdown",
   "metadata": {},
   "source": [
    "## Problem 2\n",
    "\n",
    "Prove that the 1st stage Gauss-Legendre method is symplectic.\n",
    "\n",
    "Hint:\n",
    "\n",
    "The Gauss-Legendre method is for Hamiltonian system is\n",
    "$$\n",
    "\\begin{align*}k_{n}=&f\\left(u_{n}+\\frac{1}{2} h k_{n}\\right)=J^{-1} \\nabla H\\left(u_{n}+\\frac{1}{2} h k_{n}\\right),\\\\u_{n+1}=&u_{n}+h k_{n}\\end{align*}\n",
    "$$\n",
    "You should consider both derivatives \n",
    "\n",
    "\n",
    "$$\n",
    "\\Phi_{n}=\\frac{\\partial u_{n}}{\\partial u_{0}}, \\quad \\Xi_{n}=\\frac{\\partial k_{n}}{\\partial u_{0}}.\n",
    "$$\n",
    "\n",
    "You can also assume that \n",
    "$$\n",
    "G_n= \\nabla^{2} H\\left(u_{n}+\\frac{h}{2} k_{n}\\right)\n",
    "$$\n",
    "is invertible. \n",
    "Then try to prove\n",
    "$$\n",
    "\\Phi_{n+1}^{\\top} J \\Phi_{n+1}=\\Phi_{n}^{\\top} J \\Phi_{n}.\n",
    "$$"
   ]
  },
  {
   "cell_type": "markdown",
   "metadata": {},
   "source": [
    "## Problem 3\n"
   ]
  },
  {
   "cell_type": "markdown",
   "metadata": {},
   "source": [
    "Derive the Butcher table for the 2-step Gauss-Legendre method, starting from the roots of the Legendre polynomial $P_2(x)$. "
   ]
  },
  {
   "cell_type": "markdown",
   "metadata": {},
   "source": []
  },
  {
   "cell_type": "markdown",
   "metadata": {},
   "source": [
    "## Problem 4\n"
   ]
  },
  {
   "cell_type": "markdown",
   "metadata": {},
   "source": [
    "\n",
    "Consider two atoms with Lennard-Jones interaction\n",
    "\n",
    "$$\n",
    "V(x_1,x_2)=w(|x_1-x_2|),\\quad w(r)=0.01\\left(\\frac{1}{r^{12}}-\\frac{1}{r^6}\\right).\n",
    "$$\n",
    "\n",
    "a) Use the 1-step (2nd order) Gauss-Legendre method to solve the Hamiltonian system\n",
    "\n",
    "$$\n",
    "x_1''(t) = -\\nabla_{x_1} V(x_1,x_2), \\quad x_2''(t) = -\\nabla_{x_2} V(x_1,x_2),\n",
    "$$\n",
    "\n",
    "with initial condition\n",
    "\n",
    "$$\n",
    "x_1(0) = 0.7,\\quad x_2(0)=-0.7, \\quad \\dot{x}_1(0)=\\dot{x}_2(0)=0.0.\n",
    "$$\n",
    "\n",
    "Use time step $h=0.2$ on the time interval $[0,50.0]$. Plot the distance $x_1(t)-x_2(t)$ along the trajectory, and plot the energy along the trajectory\n",
    "$$\n",
    "E(t)=\\frac12 (x_1'(t))^2 + \\frac12 (x_2'(t))^ 2 + V(x_1(t),x_2(t)).\n",
    "$$\n",
    "\n",
    "You can use any solver to solve the nonlinear equation (but you have to code from scratch)\n",
    "\n",
    "b) Do the same calculation using the Velocity-Verlet method, (and observe the ease of implementation compared to implicit methods).\n",
    "\n"
   ]
  },
  {
   "cell_type": "code",
   "execution_count": null,
   "metadata": {},
   "outputs": [],
   "source": [
    "using LinearAlgebra\n",
    "\n",
    "\n",
    "T = 50.0\n",
    "dt = 0.2\n",
    "N = round(Int64,T/dt)\n",
    "t = collect(0:N)*dt\n",
    "x0 = [0.7,-0.7]\n",
    "v0 = [0.0,0.0]\n",
    "\n",
    "x,v,Vpot = gl1(N,T,x0,v0,100)\n",
    "\n",
    "using PyPlot\n",
    "figure(1,figsize=(5,5))\n",
    "st=1\n",
    "plot(t,vec(x[1,:]-x[2,:]),\"bo\")\n",
    "xlabel(L\"t\")\n",
    "ylabel(L\"x_1-x_2\")\n",
    "title(\"GL1\")\n",
    "\n",
    "Et = zeros(N+1)\n",
    "Et = 0.5*vec(v[1,:].^2+v[2,:].^2) + Vpot\n",
    "\n",
    "figure(2,figsize=(5,5))\n",
    "st=1\n",
    "plot(t,Et,\"b-\")\n",
    "xlabel(L\"t\")\n",
    "ylabel(L\"E(t)\")\n",
    "title(\"GL1\")"
   ]
  },
  {
   "cell_type": "code",
   "execution_count": null,
   "metadata": {},
   "outputs": [],
   "source": []
  }
 ],
 "metadata": {
  "kernelspec": {
   "display_name": "Julia 1.2.0",
   "language": "julia",
   "name": "julia-1.2"
  },
  "language_info": {
   "file_extension": ".jl",
   "mimetype": "application/julia",
   "name": "julia",
   "version": "1.2.0"
  }
 },
 "nbformat": 4,
 "nbformat_minor": 4
}
